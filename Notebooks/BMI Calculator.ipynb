{
 "cells": [
  {
   "cell_type": "code",
   "execution_count": 8,
   "id": "1c378d70",
   "metadata": {
    "scrolled": true
   },
   "outputs": [
    {
     "name": "stdout",
     "output_type": "stream",
     "text": [
      "Enter your nameNabeel\n",
      "Enter your weight in kg: 92\n",
      "Enter your height in cm: 182\n",
      "Nabeel, Your BMI is: 27.8\n",
      "Nabeel, You are Overweight\n"
     ]
    }
   ],
   "source": [
    "name = input(\"Enter your name\")\n",
    "weight = int(input(\"Enter your weight in kg: \"))\n",
    "height = int(input(\"Enter your height in cm: \"))\n",
    "\n",
    "bmi = weight /((height/100)**2)\n",
    "\n",
    "print(name + ', Your BMI is: ' + str(round(bmi,1)))\n",
    "\n",
    "if bmi>0:\n",
    "    if bmi < 18.5:\n",
    "        print(name +', You are Underweight')\n",
    "    elif bmi <25:\n",
    "        print(name +', You are Normal Weight')\n",
    "    elif bmi <40:\n",
    "        print(name +', You are Overweight')\n",
    "    else:\n",
    "        print(name +', You are Obese')\n",
    "else:\n",
    "    print(\"Please enter correct values\")\n",
    "\n"
   ]
  }
 ],
 "metadata": {
  "kernelspec": {
   "display_name": "Python 3 (ipykernel)",
   "language": "python",
   "name": "python3"
  },
  "language_info": {
   "codemirror_mode": {
    "name": "ipython",
    "version": 3
   },
   "file_extension": ".py",
   "mimetype": "text/x-python",
   "name": "python",
   "nbconvert_exporter": "python",
   "pygments_lexer": "ipython3",
   "version": "3.10.9"
  }
 },
 "nbformat": 4,
 "nbformat_minor": 5
}
