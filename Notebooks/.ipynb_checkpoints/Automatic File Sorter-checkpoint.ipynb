{
 "cells": [
  {
   "cell_type": "code",
   "execution_count": 1,
   "id": "ea6f099e",
   "metadata": {},
   "outputs": [],
   "source": [
    "import os, shutil"
   ]
  },
  {
   "cell_type": "code",
   "execution_count": 8,
   "id": "85cabbc5",
   "metadata": {},
   "outputs": [],
   "source": [
    "path = \"D:/File Sorting Project/\""
   ]
  },
  {
   "cell_type": "code",
   "execution_count": 21,
   "id": "1ba07c84",
   "metadata": {},
   "outputs": [
    {
     "name": "stdout",
     "output_type": "stream",
     "text": [
      "['Budgeting.xlsx', 'Complete driver history and full driving record.pdf', 'Excel Files', 'Image Files', 'Intel SSD.jpg', 'IRCC Reference Letter Requirement.docx', 'Mahnoor IELTS.pdf', 'Nabeel IELTS.pdf', 'PDF Files', 'Request Letter.docx', 'SQL Password.txt', 'Starting data analysis as freelancing career.docx', 'Tableau Key.txt', 'Text Files', 'Word Files']\n"
     ]
    }
   ],
   "source": [
    "my_files = os.listdir(path)\n",
    "print(my_files)"
   ]
  },
  {
   "cell_type": "code",
   "execution_count": 22,
   "id": "32e33b5f",
   "metadata": {},
   "outputs": [],
   "source": [
    "# creating folders\n",
    "\n",
    "folders = ['Word Files', 'Image Files', 'Text Files', 'PDF Files','Excel Files']\n",
    "for folder in folders:\n",
    "    if not os.path.exists(path+folder):\n",
    "        os.makedirs(path+folder)"
   ]
  },
  {
   "cell_type": "code",
   "execution_count": 23,
   "id": "da7835de",
   "metadata": {},
   "outputs": [],
   "source": [
    "# adding files in their respective folders\n",
    "\n",
    "for file in my_files:\n",
    "    if \".pdf\" in file and not os.path.exists(path+folders[3]+'/'+file):\n",
    "        shutil.move(path + file, path+folders[3]+'/'+file)\n",
    "    elif \".docx\" in file and not os.path.exists(path+folders[0]+'/'+file):\n",
    "        shutil.move(path + file, path+folders[0]+'/'+file)\n",
    "    elif \".txt\" in file and not os.path.exists(path+folders[2]+'/'+file):\n",
    "        shutil.move(path + file, path+folders[2]+'/'+file)\n",
    "    elif \".jpg\" in file and not os.path.exists(path+folders[1]+'/'+file):\n",
    "        shutil.move(path + file, path+folders[1]+'/'+file)\n",
    "    elif \".xlsx\" in file and not os.path.exists(path+folders[4]+'/'+file):\n",
    "        shutil.move(path + file, path+folders[4]+'/'+file)"
   ]
  },
  {
   "cell_type": "code",
   "execution_count": null,
   "id": "b5da44a2",
   "metadata": {},
   "outputs": [],
   "source": []
  }
 ],
 "metadata": {
  "kernelspec": {
   "display_name": "Python 3 (ipykernel)",
   "language": "python",
   "name": "python3"
  },
  "language_info": {
   "codemirror_mode": {
    "name": "ipython",
    "version": 3
   },
   "file_extension": ".py",
   "mimetype": "text/x-python",
   "name": "python",
   "nbconvert_exporter": "python",
   "pygments_lexer": "ipython3",
   "version": "3.10.9"
  }
 },
 "nbformat": 4,
 "nbformat_minor": 5
}
