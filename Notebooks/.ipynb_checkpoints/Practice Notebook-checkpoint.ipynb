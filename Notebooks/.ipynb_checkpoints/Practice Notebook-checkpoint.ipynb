{
 "cells": [
  {
   "cell_type": "code",
   "execution_count": 1,
   "id": "ceff392e",
   "metadata": {},
   "outputs": [
    {
     "data": {
      "text/plain": [
       "'D:\\\\MyGit\\\\Data Analysis\\\\Notebooks'"
      ]
     },
     "execution_count": 1,
     "metadata": {},
     "output_type": "execute_result"
    }
   ],
   "source": [
    "pwd"
   ]
  },
  {
   "cell_type": "code",
   "execution_count": 2,
   "id": "eaddb7f6",
   "metadata": {},
   "outputs": [],
   "source": [
    "x = 22"
   ]
  },
  {
   "cell_type": "code",
   "execution_count": 3,
   "id": "feb5bb50",
   "metadata": {},
   "outputs": [
    {
     "data": {
      "text/plain": [
       "22"
      ]
     },
     "execution_count": 3,
     "metadata": {},
     "output_type": "execute_result"
    }
   ],
   "source": [
    "x"
   ]
  },
  {
   "cell_type": "code",
   "execution_count": 4,
   "id": "5fa66b3c",
   "metadata": {},
   "outputs": [
    {
     "name": "stdout",
     "output_type": "stream",
     "text": [
      "22\n"
     ]
    }
   ],
   "source": [
    "print(x)"
   ]
  },
  {
   "cell_type": "code",
   "execution_count": 6,
   "id": "a66d0d31",
   "metadata": {},
   "outputs": [
    {
     "data": {
      "text/plain": [
       "int"
      ]
     },
     "execution_count": 6,
     "metadata": {},
     "output_type": "execute_result"
    }
   ],
   "source": [
    "type(x)"
   ]
  },
  {
   "cell_type": "code",
   "execution_count": 12,
   "id": "33b05476",
   "metadata": {},
   "outputs": [],
   "source": [
    "#Camel Case\n",
    "\n",
    "testVariable  = 'Camel Case'"
   ]
  },
  {
   "cell_type": "code",
   "execution_count": 13,
   "id": "e6689afc",
   "metadata": {},
   "outputs": [],
   "source": [
    "#Pascal Case\n",
    "TestVariable = 'Pascal Case'"
   ]
  },
  {
   "cell_type": "code",
   "execution_count": 14,
   "id": "a714ef5e",
   "metadata": {},
   "outputs": [],
   "source": [
    "#Snake Case\n",
    "\n",
    "test_variable = 'Snake Case'"
   ]
  },
  {
   "cell_type": "code",
   "execution_count": 15,
   "id": "3bb6f610",
   "metadata": {},
   "outputs": [
    {
     "data": {
      "text/plain": [
       "'Camel Case'"
      ]
     },
     "execution_count": 15,
     "metadata": {},
     "output_type": "execute_result"
    }
   ],
   "source": [
    "testVariable"
   ]
  },
  {
   "cell_type": "code",
   "execution_count": 16,
   "id": "b0fc4150",
   "metadata": {},
   "outputs": [
    {
     "data": {
      "text/plain": [
       "'Pascal Case'"
      ]
     },
     "execution_count": 16,
     "metadata": {},
     "output_type": "execute_result"
    }
   ],
   "source": [
    "TestVariable"
   ]
  },
  {
   "cell_type": "code",
   "execution_count": 17,
   "id": "5a2294e3",
   "metadata": {},
   "outputs": [
    {
     "data": {
      "text/plain": [
       "'Snake Case'"
      ]
     },
     "execution_count": 17,
     "metadata": {},
     "output_type": "execute_result"
    }
   ],
   "source": [
    "test_variable"
   ]
  },
  {
   "cell_type": "code",
   "execution_count": 18,
   "id": "4fcb0225",
   "metadata": {},
   "outputs": [],
   "source": [
    "# sets\n",
    "\n",
    "set1 = {1,2,3,4,5,6}"
   ]
  },
  {
   "cell_type": "code",
   "execution_count": 19,
   "id": "615506b9",
   "metadata": {},
   "outputs": [],
   "source": [
    "set2 = {1,3,8,4,2,6,8,8,7,9,9,10,10}"
   ]
  },
  {
   "cell_type": "code",
   "execution_count": 20,
   "id": "c36ea04b",
   "metadata": {},
   "outputs": [
    {
     "data": {
      "text/plain": [
       "{1, 2, 3, 4, 6, 7, 8, 9, 10}"
      ]
     },
     "execution_count": 20,
     "metadata": {},
     "output_type": "execute_result"
    }
   ],
   "source": [
    "# will only show unique values\n",
    "set2"
   ]
  },
  {
   "cell_type": "code",
   "execution_count": 22,
   "id": "33e6dc9d",
   "metadata": {},
   "outputs": [
    {
     "name": "stdout",
     "output_type": "stream",
     "text": [
      "{1, 2, 3, 4, 5, 6, 7, 8, 9, 10}\n"
     ]
    }
   ],
   "source": [
    "# will only show unique values\n",
    "print(set1 | set2)"
   ]
  },
  {
   "cell_type": "code",
   "execution_count": 23,
   "id": "1c4876ef",
   "metadata": {},
   "outputs": [
    {
     "name": "stdout",
     "output_type": "stream",
     "text": [
      "{1, 2, 3, 4, 6}\n"
     ]
    }
   ],
   "source": [
    "# will only show common values\n",
    "print(set1 & set2)"
   ]
  },
  {
   "cell_type": "code",
   "execution_count": 24,
   "id": "bd23b4cc",
   "metadata": {},
   "outputs": [
    {
     "name": "stdout",
     "output_type": "stream",
     "text": [
      "{5, 7, 8, 9, 10}\n"
     ]
    }
   ],
   "source": [
    "# will only show not matching values\n",
    "print(set1 ^ set2)"
   ]
  },
  {
   "cell_type": "code",
   "execution_count": 26,
   "id": "e8c34719",
   "metadata": {},
   "outputs": [
    {
     "name": "stdout",
     "output_type": "stream",
     "text": [
      "{5}\n"
     ]
    }
   ],
   "source": [
    "# will subtract all the values from set 2 from set 1\n",
    "print(set1 - set2)"
   ]
  },
  {
   "cell_type": "code",
   "execution_count": 27,
   "id": "74a31891",
   "metadata": {},
   "outputs": [],
   "source": [
    "# dictionary \n",
    "\n",
    "my_dict = {'name': 'Nabeel Khan', 'Age': 30, 'Height': '182 CM'}"
   ]
  },
  {
   "cell_type": "code",
   "execution_count": 28,
   "id": "f8b693cb",
   "metadata": {},
   "outputs": [
    {
     "name": "stdout",
     "output_type": "stream",
     "text": [
      "{'name': 'Nabeel Khan', 'Age': 30, 'Height': '182 CM'}\n"
     ]
    }
   ],
   "source": [
    "print(my_dict)"
   ]
  },
  {
   "cell_type": "code",
   "execution_count": 29,
   "id": "7cf8fc2f",
   "metadata": {},
   "outputs": [
    {
     "data": {
      "text/plain": [
       "'Nabeel Khan'"
      ]
     },
     "execution_count": 29,
     "metadata": {},
     "output_type": "execute_result"
    }
   ],
   "source": [
    "my_dict['name']"
   ]
  },
  {
   "cell_type": "code",
   "execution_count": 30,
   "id": "9d8265a7",
   "metadata": {},
   "outputs": [
    {
     "data": {
      "text/plain": [
       "dict_keys(['name', 'Age', 'Height'])"
      ]
     },
     "execution_count": 30,
     "metadata": {},
     "output_type": "execute_result"
    }
   ],
   "source": [
    "my_dict.keys()"
   ]
  },
  {
   "cell_type": "code",
   "execution_count": 32,
   "id": "d64f61fc",
   "metadata": {},
   "outputs": [
    {
     "data": {
      "text/plain": [
       "dict_items([('name', 'Nabeel Khan'), ('Age', 30), ('Height', '182 CM')])"
      ]
     },
     "execution_count": 32,
     "metadata": {},
     "output_type": "execute_result"
    }
   ],
   "source": [
    "my_dict.items()"
   ]
  },
  {
   "cell_type": "code",
   "execution_count": 33,
   "id": "342a0217",
   "metadata": {},
   "outputs": [],
   "source": [
    "my_dict['name']= 'Nabeel Muhammad Khan'"
   ]
  },
  {
   "cell_type": "code",
   "execution_count": 34,
   "id": "609f568d",
   "metadata": {},
   "outputs": [
    {
     "name": "stdout",
     "output_type": "stream",
     "text": [
      "{'name': 'Nabeel Muhammad Khan', 'Age': 30, 'Height': '182 CM'}\n"
     ]
    }
   ],
   "source": [
    "print(my_dict)"
   ]
  },
  {
   "cell_type": "code",
   "execution_count": 36,
   "id": "72e181d3",
   "metadata": {},
   "outputs": [],
   "source": [
    "my_dict.update({'Weight':'90 KG'})"
   ]
  },
  {
   "cell_type": "code",
   "execution_count": 37,
   "id": "2e40e698",
   "metadata": {},
   "outputs": [
    {
     "name": "stdout",
     "output_type": "stream",
     "text": [
      "{'name': 'Nabeel Muhammad Khan', 'Age': 30, 'Height': '182 CM', 'Weight': '90 KG'}\n"
     ]
    }
   ],
   "source": [
    "print(my_dict)"
   ]
  },
  {
   "cell_type": "code",
   "execution_count": 38,
   "id": "89032129",
   "metadata": {},
   "outputs": [
    {
     "data": {
      "text/plain": [
       "{'name': 'Nabeel Muhammad Khan',\n",
       " 'Age': 30,\n",
       " 'Height': '182 CM',\n",
       " 'Weight': '90 KG'}"
      ]
     },
     "execution_count": 38,
     "metadata": {},
     "output_type": "execute_result"
    }
   ],
   "source": [
    "my_dict"
   ]
  },
  {
   "cell_type": "code",
   "execution_count": 40,
   "id": "36df0650",
   "metadata": {},
   "outputs": [],
   "source": [
    "del my_dict['Weight']"
   ]
  },
  {
   "cell_type": "code",
   "execution_count": 46,
   "id": "3829827f",
   "metadata": {},
   "outputs": [
    {
     "name": "stdout",
     "output_type": "stream",
     "text": [
      "{'name': 'Nabeel Muhammad Khan', 'Age': 30, 'Height': '182 CM'}\n"
     ]
    }
   ],
   "source": [
    "print(my_dict)"
   ]
  },
  {
   "cell_type": "code",
   "execution_count": 47,
   "id": "5c707df5",
   "metadata": {},
   "outputs": [
    {
     "data": {
      "text/plain": [
       "dict_values(['Nabeel Muhammad Khan', 30, '182 CM'])"
      ]
     },
     "execution_count": 47,
     "metadata": {},
     "output_type": "execute_result"
    }
   ],
   "source": [
    "my_dict.values()"
   ]
  },
  {
   "cell_type": "code",
   "execution_count": 48,
   "id": "732e62af",
   "metadata": {},
   "outputs": [
    {
     "name": "stdout",
     "output_type": "stream",
     "text": [
      "It is True\n"
     ]
    }
   ],
   "source": [
    "# in line if statement\n",
    "\n",
    "print('It is True') if 10 > 5 else print('It is not true')"
   ]
  },
  {
   "cell_type": "code",
   "execution_count": 43,
   "id": "074a3fb2",
   "metadata": {},
   "outputs": [
    {
     "name": "stdout",
     "output_type": "stream",
     "text": [
      "It is not true\n"
     ]
    }
   ],
   "source": [
    "# in line if statement\n",
    "\n",
    "print('It is True') if 10 < 5 else print('It is not true')"
   ]
  },
  {
   "cell_type": "code",
   "execution_count": 49,
   "id": "21ea2a33",
   "metadata": {},
   "outputs": [
    {
     "name": "stdout",
     "output_type": "stream",
     "text": [
      "Nabeel Muhammad Khan\n",
      "30\n",
      "182 CM\n"
     ]
    }
   ],
   "source": [
    "# For Loop for Dictionaries\n",
    "\n",
    "for values in my_dict.values():\n",
    "    print(values)"
   ]
  },
  {
   "cell_type": "code",
   "execution_count": 50,
   "id": "2d815fd3",
   "metadata": {},
   "outputs": [
    {
     "name": "stdout",
     "output_type": "stream",
     "text": [
      "name\n",
      "Age\n",
      "Height\n"
     ]
    }
   ],
   "source": [
    "# For Loop for Dictionaries\n",
    "\n",
    "for keys in my_dict.keys():\n",
    "    print(keys)"
   ]
  },
  {
   "cell_type": "code",
   "execution_count": 51,
   "id": "68a10050",
   "metadata": {},
   "outputs": [
    {
     "name": "stdout",
     "output_type": "stream",
     "text": [
      "name -> Nabeel Muhammad Khan\n",
      "Age -> 30\n",
      "Height -> 182 CM\n"
     ]
    }
   ],
   "source": [
    "# For Loop for Dictionaries\n",
    "\n",
    "for key, values in my_dict.items():\n",
    "    print(key,'->',values)"
   ]
  },
  {
   "cell_type": "code",
   "execution_count": 54,
   "id": "c15ec121",
   "metadata": {},
   "outputs": [
    {
     "name": "stdout",
     "output_type": "stream",
     "text": [
      "0\n",
      "1\n",
      "2\n",
      "3\n",
      "4\n",
      "5\n"
     ]
    }
   ],
   "source": [
    "# While Loop\n",
    "\n",
    "number = 0 \n",
    "while number <=5:\n",
    "    print(number)\n",
    "    number = number + 1"
   ]
  },
  {
   "cell_type": "code",
   "execution_count": 55,
   "id": "07aaf7ce",
   "metadata": {},
   "outputs": [
    {
     "name": "stdout",
     "output_type": "stream",
     "text": [
      "0\n",
      "1\n",
      "2\n",
      "3\n"
     ]
    }
   ],
   "source": [
    "# While Loop with break\n",
    "\n",
    "number = 0 \n",
    "while number <=5:\n",
    "    print(number)\n",
    "    number = number + 1\n",
    "    if number == 4:\n",
    "        break"
   ]
  },
  {
   "cell_type": "code",
   "execution_count": 58,
   "id": "f86222c8",
   "metadata": {},
   "outputs": [
    {
     "name": "stdout",
     "output_type": "stream",
     "text": [
      "0\n",
      "Inner if not working\n",
      "1\n",
      "Inner if not working\n",
      "2\n",
      "Inner if not working\n",
      "3\n",
      "4\n",
      "Inner if not working\n",
      "5\n",
      "Inner if not working\n",
      "Out of while loop 6\n"
     ]
    }
   ],
   "source": [
    "# While Loop with break\n",
    "\n",
    "number = 0 \n",
    "while number <=5:\n",
    "    print(number)\n",
    "    number = number + 1\n",
    "    if number == 4:\n",
    "        continue\n",
    "    else:\n",
    "        print('Inner if not working')\n",
    "else:\n",
    "    print('Out of while loop', number)"
   ]
  },
  {
   "cell_type": "code",
   "execution_count": 63,
   "id": "3ace34e2",
   "metadata": {},
   "outputs": [],
   "source": [
    "# Functions\n",
    "\n",
    "def square_num(number,power):\n",
    "        print(number**power)"
   ]
  },
  {
   "cell_type": "code",
   "execution_count": 64,
   "id": "a72ea184",
   "metadata": {},
   "outputs": [
    {
     "name": "stdout",
     "output_type": "stream",
     "text": [
      "25\n"
     ]
    }
   ],
   "source": [
    "square_num(5,2)"
   ]
  },
  {
   "cell_type": "code",
   "execution_count": 65,
   "id": "98e8efe0",
   "metadata": {},
   "outputs": [
    {
     "name": "stdout",
     "output_type": "stream",
     "text": [
      "25\n"
     ]
    }
   ],
   "source": [
    "#Keyword Argument\n",
    "square_num(power=2,number=5)"
   ]
  },
  {
   "cell_type": "code",
   "execution_count": 66,
   "id": "44a3cc8a",
   "metadata": {},
   "outputs": [],
   "source": [
    "#Arbitrary Arguments\n",
    "\n",
    "def my_func(*number):\n",
    "    print(number[0],number[1])"
   ]
  },
  {
   "cell_type": "code",
   "execution_count": 67,
   "id": "f546b441",
   "metadata": {},
   "outputs": [
    {
     "name": "stdout",
     "output_type": "stream",
     "text": [
      "1 2\n"
     ]
    }
   ],
   "source": [
    "my_func(1,2,3)"
   ]
  },
  {
   "cell_type": "code",
   "execution_count": 69,
   "id": "0f4d6705",
   "metadata": {},
   "outputs": [
    {
     "name": "stdout",
     "output_type": "stream",
     "text": [
      "1 2\n"
     ]
    }
   ],
   "source": [
    "tuple = (1,2,3,4)\n",
    "my_func(*tuple)"
   ]
  },
  {
   "cell_type": "code",
   "execution_count": 74,
   "id": "84fe38a5",
   "metadata": {},
   "outputs": [],
   "source": [
    "#Keyword Arbitrary Arguments\n",
    "\n",
    "def kw_arg(**number):\n",
    "    print(number['int1'] , number['int2'])"
   ]
  },
  {
   "cell_type": "code",
   "execution_count": 75,
   "id": "2bfb9094",
   "metadata": {},
   "outputs": [
    {
     "name": "stdout",
     "output_type": "stream",
     "text": [
      "1 3\n"
     ]
    }
   ],
   "source": [
    "kw_arg(int1 ='1', int2 = '3')"
   ]
  },
  {
   "cell_type": "code",
   "execution_count": null,
   "id": "84cc0cb9",
   "metadata": {},
   "outputs": [],
   "source": []
  }
 ],
 "metadata": {
  "kernelspec": {
   "display_name": "Python 3 (ipykernel)",
   "language": "python",
   "name": "python3"
  },
  "language_info": {
   "codemirror_mode": {
    "name": "ipython",
    "version": 3
   },
   "file_extension": ".py",
   "mimetype": "text/x-python",
   "name": "python",
   "nbconvert_exporter": "python",
   "pygments_lexer": "ipython3",
   "version": "3.10.9"
  }
 },
 "nbformat": 4,
 "nbformat_minor": 5
}
