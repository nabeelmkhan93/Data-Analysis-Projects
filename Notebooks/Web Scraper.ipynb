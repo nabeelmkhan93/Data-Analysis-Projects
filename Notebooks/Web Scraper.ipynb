{
 "cells": [
  {
   "cell_type": "code",
   "execution_count": 1,
   "id": "dd19e54f",
   "metadata": {},
   "outputs": [],
   "source": [
    "from bs4 import BeautifulSoup\n",
    "import requests\n",
    "import time\n",
    "import datetime\n",
    "import smtplib\n",
    "from selenium import webdriver"
   ]
  },
  {
   "cell_type": "code",
   "execution_count": 2,
   "id": "5a27ec37",
   "metadata": {},
   "outputs": [
    {
     "name": "stderr",
     "output_type": "stream",
     "text": [
      "C:\\Users\\Nabeel Muhammad Khan\\AppData\\Local\\Temp\\ipykernel_23484\\2354275515.py:3: DeprecationWarning: executable_path has been deprecated, please pass in a Service object\n",
      "  driver = webdriver.Chrome('chromedriver.exe')\n"
     ]
    }
   ],
   "source": [
    "# connecting to the link to pull data\n",
    "\n",
    "driver = webdriver.Chrome('chromedriver.exe')\n",
    "#driver.maximize_window()\n",
    "time.sleep(8)\n",
    "\n",
    "url = 'https://www.daraz.pk/products/samsung-galaxy-fold-4-12gb-ram-256gb-rom-pta-approved-i389405750-s1913647948.html?spm=a2a0e.searchlist.list.69.342c1a03UDH6kR&search=1'\n",
    "headers = {\n",
    "    \"User-Agent\": \"Mozilla/5.0 (Windows NT 10.0; Win64; x64) AppleWebKit/537.36 (KHTML, like Gecko) Chrome/111.0.0.0 Safari/537.36\", \n",
    "  }\n",
    "\n",
    "driver.get(url)\n",
    "time.sleep(5)\n",
    "\n",
    "page = requests.get(url, headers=headers)\n",
    "\n",
    "s1 = BeautifulSoup(driver.page_source, 'lxml')\n",
    "s2 = BeautifulSoup(s1.prettify(),'html.parser')\n",
    "\n",
    "\n",
    "title = s2.find(\"span\",{\"class\":\"pdp-mod-product-badge-title\"}).get_text()\n",
    "\n",
    "price = s2.find(\"span\", {\"class\": \"pdp-price pdp-price_type_normal pdp-price_color_orange pdp-price_size_xl\"}).get_text()\n",
    "\n",
    "ratings = s2.find(\"a\", {\"class\": \"pdp-link pdp-link_size_s pdp-link_theme_blue pdp-review-summary__link\"}).get_text()\n",
    "\n"
   ]
  },
  {
   "cell_type": "code",
   "execution_count": 3,
   "id": "532f2610",
   "metadata": {},
   "outputs": [
    {
     "name": "stdout",
     "output_type": "stream",
     "text": [
      "\n",
      "            Samsung Galaxy Fold 4  - 12GB RAM - 256GB ROM PTA APPROVED\n",
      "            \n",
      "             No Ratings\n",
      "             \n",
      "            Rs. 416,999\n",
      "           \n"
     ]
    }
   ],
   "source": [
    "print(title,ratings,price)"
   ]
  },
  {
   "cell_type": "code",
   "execution_count": 4,
   "id": "325470a6",
   "metadata": {},
   "outputs": [],
   "source": [
    "title = title.strip()\n",
    "price = price.strip()[4:]\n",
    "ratings = ratings.strip()"
   ]
  },
  {
   "cell_type": "code",
   "execution_count": 5,
   "id": "0089e584",
   "metadata": {},
   "outputs": [
    {
     "name": "stdout",
     "output_type": "stream",
     "text": [
      "Samsung Galaxy Fold 4  - 12GB RAM - 256GB ROM PTA APPROVED\n",
      "416,999\n",
      "No Ratings\n"
     ]
    }
   ],
   "source": [
    "print(title)\n",
    "print(price)\n",
    "print(ratings)"
   ]
  },
  {
   "cell_type": "code",
   "execution_count": 6,
   "id": "e072f715",
   "metadata": {},
   "outputs": [
    {
     "name": "stdout",
     "output_type": "stream",
     "text": [
      "2023-03-29\n"
     ]
    }
   ],
   "source": [
    "today = datetime.date.today()\n",
    "\n",
    "print(today)"
   ]
  },
  {
   "cell_type": "code",
   "execution_count": 7,
   "id": "690f62b3",
   "metadata": {},
   "outputs": [],
   "source": [
    "import csv\n",
    "\n",
    "header = ['Title','Price','No of Ratings','Date Checked']\n",
    "data = [title,price,ratings,today]\n",
    "\n",
    "with open('WebScrapping.csv','w',newline='', encoding='UTF8') as f:\n",
    "    writer = csv.writer(f)\n",
    "    writer.writerow(header)\n",
    "    writer.writerow(data)"
   ]
  },
  {
   "cell_type": "code",
   "execution_count": 13,
   "id": "c7413aca",
   "metadata": {},
   "outputs": [],
   "source": [
    "def check_DarazProduct(url_link):\n",
    "    \n",
    "    driver = webdriver.Chrome('chromedriver.exe')\n",
    "    #driver.maximize_window()\n",
    "    time.sleep(1)\n",
    "\n",
    "    url = url_link\n",
    "    headers = {\n",
    "    \"User-Agent\": \"Mozilla/5.0 (Windows NT 10.0; Win64; x64) AppleWebKit/537.36 (KHTML, like Gecko) Chrome/111.0.0.0 Safari/537.36\", \n",
    "                }\n",
    "\n",
    "    driver.get(url)\n",
    "    time.sleep(1)\n",
    "\n",
    "    page = requests.get(url, headers=headers)\n",
    "\n",
    "    s1 = BeautifulSoup(driver.page_source, 'lxml')\n",
    "    s2 = BeautifulSoup(s1.prettify(),'html.parser')\n",
    "\n",
    "\n",
    "    title = s2.find(\"span\",{\"class\":\"pdp-mod-product-badge-title\"}).get_text()\n",
    "\n",
    "    price = s2.find(\"span\", {\"class\": \"pdp-price pdp-price_type_normal pdp-price_color_orange pdp-price_size_xl\"}).get_text()\n",
    "\n",
    "    ratings = s2.find(\"a\", {\"class\": \"pdp-link pdp-link_size_s pdp-link_theme_blue pdp-review-summary__link\"}).get_text()\n",
    "\n",
    "    title = title.strip()\n",
    "    price = price.strip()[4:]\n",
    "    ratings = ratings.strip()\n",
    "    \n",
    "    today = datetime.date.today()\n",
    "    \n",
    "    import csv\n",
    "\n",
    "    header = ['Title','Price','No of Ratings','Date Checked']\n",
    "    data = [title,price,ratings,today]\n",
    "\n",
    "    # changes this method to append instead of creating new document.\n",
    "    with open('WebScrapping.csv','a+',newline='', encoding='UTF8') as f:\n",
    "        writer = csv.writer(f)\n",
    "        #writer.writerow(header) -- No need for header again\n",
    "        writer.writerow(data)\n",
    "        \n",
    "    \n",
    "    "
   ]
  },
  {
   "cell_type": "code",
   "execution_count": 14,
   "id": "1220581b",
   "metadata": {},
   "outputs": [
    {
     "name": "stderr",
     "output_type": "stream",
     "text": [
      "C:\\Users\\Nabeel Muhammad Khan\\AppData\\Local\\Temp\\ipykernel_23484\\448663113.py:3: DeprecationWarning: executable_path has been deprecated, please pass in a Service object\n",
      "  driver = webdriver.Chrome('chromedriver.exe')\n"
     ]
    },
    {
     "ename": "KeyboardInterrupt",
     "evalue": "",
     "output_type": "error",
     "traceback": [
      "\u001b[1;31m---------------------------------------------------------------------------\u001b[0m",
      "\u001b[1;31mKeyboardInterrupt\u001b[0m                         Traceback (most recent call last)",
      "Cell \u001b[1;32mIn[14], line 4\u001b[0m\n\u001b[0;32m      2\u001b[0m \u001b[38;5;28;01mwhile\u001b[39;00m(\u001b[38;5;28;01mTrue\u001b[39;00m):\n\u001b[0;32m      3\u001b[0m     check_DarazProduct(url)\n\u001b[1;32m----> 4\u001b[0m     \u001b[43mtime\u001b[49m\u001b[38;5;241;43m.\u001b[39;49m\u001b[43msleep\u001b[49m\u001b[43m(\u001b[49m\u001b[38;5;241;43m10\u001b[39;49m\u001b[43m)\u001b[49m\n",
      "\u001b[1;31mKeyboardInterrupt\u001b[0m: "
     ]
    }
   ],
   "source": [
    "url = 'https://www.daraz.pk/products/samsung-galaxy-fold-4-12gb-ram-256gb-rom-pta-approved-i389405750-s1913647948.html?spm=a2a0e.searchlist.list.69.342c1a03UDH6kR&search=1'\n",
    "while(True):\n",
    "    check_DarazProduct(url)\n",
    "    time.sleep(10)"
   ]
  },
  {
   "cell_type": "code",
   "execution_count": null,
   "id": "b301d414",
   "metadata": {},
   "outputs": [],
   "source": []
  }
 ],
 "metadata": {
  "kernelspec": {
   "display_name": "Python 3 (ipykernel)",
   "language": "python",
   "name": "python3"
  },
  "language_info": {
   "codemirror_mode": {
    "name": "ipython",
    "version": 3
   },
   "file_extension": ".py",
   "mimetype": "text/x-python",
   "name": "python",
   "nbconvert_exporter": "python",
   "pygments_lexer": "ipython3",
   "version": "3.10.9"
  }
 },
 "nbformat": 4,
 "nbformat_minor": 5
}
